{
 "cells": [
  {
   "cell_type": "markdown",
   "metadata": {},
   "source": [
    "# Exploratory Data Analysis - Fitness App Reviews (Simplified)\n",
    "\n",
    "This simplified notebook explores the fitness app reviews dataset without requiring complex dependencies."
   ]
  },
  {
   "cell_type": "code",
   "execution_count": null,
   "metadata": {},
   "outputs": [],
   "source": [
    "# Import only essential libraries\n",
    "import pandas as pd\n",
    "import numpy as np\n",
    "import matplotlib.pyplot as plt\n",
    "from collections import Counter\n",
    "import re\n",
    "\n",
    "# Set basic plot parameters\n",
    "plt.rcParams['figure.figsize'] = (10, 6)\n",
    "plt.style.use('ggplot')"
   ]
  },
  {
   "cell_type": "code",
   "execution_count": null,
   "metadata": {},
   "outputs": [],
   "source": [
    "# Load the dataset\n",
    "# Adjust path if needed\n",
    "try:\n",
    "    df = pd.read_csv('../data/fitness_app_reviews.csv')\n",
    "except FileNotFoundError:\n",
    "    df = pd.read_csv('fitness_app_reviews.csv')\n",
    "\n",
    "# Display the first few rows\n",
    "df.head()"
   ]
  },
  {
   "cell_type": "code",
   "execution_count": null,
   "metadata": {},
   "outputs": [],
   "source": [
    "# Basic dataset information\n",
    "print(f\"Dataset shape: {df.shape}\")\n",
    "print(\"\\nDataset columns:\")\n",
    "for col in df.columns:\n",
    "    print(f\"- {col}\")\n",
    "\n",
    "# Check for missing values\n",
    "print(\"\\nMissing values:\")\n",
    "print(df.isnull().sum())"
   ]
  },
  {
   "cell_type": "markdown",
   "metadata": {},
   "source": [
    "## Rating Distribution"
   ]
  },
  {
   "cell_type": "code",
   "execution_count": null,
   "metadata": {},
   "outputs": [],
   "source": [
    "# Plot rating distribution\n",
    "plt.figure()\n",
    "rating_counts = df['rating'].value_counts().sort_index()\n",
    "rating_counts.plot(kind='bar', color='skyblue')\n",
    "plt.title('Distribution of Ratings')\n",
    "plt.xlabel('Rating')\n",
    "plt.ylabel('Count')\n",
    "\n",
    "# Add percentage labels\n",
    "total = len(df)\n",
    "for i, count in enumerate(rating_counts):\n",
    "    percentage = f'{100 * count / total:.1f}%'\n",
    "    plt.text(i, count + 10, percentage, ha='center')\n",
    "\n",
    "plt.tight_layout()\n",
    "plt.show()"
   ]
  },
  {
   "cell_type": "code",
   "execution_count": null,
   "metadata": {},
   "outputs": [],
   "source": [
    "# Map ratings to sentiment categories\n",
    "def get_sentiment(rating):\n",
    "    if rating >= 4:\n",
    "        return 'Positive'\n",
    "    elif rating >= 2:\n",
    "        return 'Neutral'\n",
    "    else:\n",
    "        return 'Negative'\n",
    "\n",
    "df['sentiment'] = df['rating'].apply(get_sentiment)\n",
    "\n",
    "# Plot sentiment distribution\n",
    "plt.figure()\n",
    "sentiment_counts = df['sentiment'].value_counts()\n",
    "colors = {'Positive': 'green', 'Neutral': 'gold', 'Negative': 'red'}\n",
    "sentiment_counts.plot(kind='bar', color=[colors[x] for x in sentiment_counts.index])\n",
    "plt.title('Distribution of Sentiment Categories')\n",
    "plt.xlabel('Sentiment')\n",
    "plt.ylabel('Count')\n",
    "\n",
    "# Add percentage labels\n",
    "total = len(df)\n",
    "for i, count in enumerate(sentiment_counts):\n",
    "    percentage = f'{100 * count / total:.1f}%'\n",
    "    plt.text(i, count + 10, percentage, ha='center')\n",
    "\n",
    "plt.tight_layout()\n",
    "plt.show()"
   ]
  },
  {
   "cell_type": "markdown",
   "metadata": {},
   "source": [
    "## App Distribution"
   ]
  },
  {
   "cell_type": "code",
   "execution_count": null,
   "metadata": {},
   "outputs": [],
   "source": [
    "# Average rating by app\n",
    "app_avg_rating = df.groupby('app_name')['rating'].mean().sort_values(ascending=False)\n",
    "\n",
    "plt.figure()\n",
    "app_avg_rating.plot(kind='bar', color='teal')\n",
    "plt.title('Average Rating by App')\n",
    "plt.xlabel('App')\n",
    "plt.ylabel('Average Rating')\n",
    "plt.xticks(rotation=45, ha='right')\n",
    "\n",
    "# Add value labels\n",
    "for i, v in enumerate(app_avg_rating):\n",
    "    plt.text(i, v + 0.05, f'{v:.2f}', ha='center')\n",
    "\n",
    "plt.ylim(0, 5.5)\n",
    "plt.tight_layout()\n",
    "plt.show()"
   ]
  },
  {
   "cell_type": "markdown",
   "metadata": {},
   "source": [
    "## Text Analysis"
   ]
  },
  {
   "cell_type": "code",
   "execution_count": null,
   "metadata": {},
   "outputs": [],
   "source": [
    "# Review length distribution\n",
    "df['review_length'] = df['review_text'].apply(len)\n",
    "df['word_count'] = df['review_text'].apply(lambda x: len(str(x).split()))\n",
    "\n",
    "plt.figure(figsize=(12, 5))\n",
    "plt.subplot(1, 2, 1)\n",
    "plt.hist(df['review_length'], bins=30, color='skyblue', alpha=0.7)\n",
    "plt.title('Review Length Distribution')\n",
    "plt.xlabel('Character Count')\n",
    "plt.ylabel('Frequency')\n",
    "\n",
    "plt.subplot(1, 2, 2)\n",
    "plt.hist(df['word_count'], bins=30, color='lightgreen', alpha=0.7)\n",
    "plt.title('Word Count Distribution')\n",
    "plt.xlabel('Word Count')\n",
    "plt.ylabel('Frequency')\n",
    "\n",
    "plt.tight_layout()\n",
    "plt.show()"
   ]
  },
  {
   "cell_type": "code",
   "execution_count": null,
   "metadata": {},
   "outputs": [],
   "source": [
    "# Review length by sentiment (boxplot)\n",
    "plt.figure()\n",
    "sentiment_order = ['Negative', 'Neutral', 'Positive']\n",
    "boxplot_data = [df[df['sentiment'] == sentiment]['word_count'] for sentiment in sentiment_order]\n",
    "plt.boxplot(boxplot_data, labels=sentiment_order)\n",
    "plt.title('Review Word Count by Sentiment')\n",
    "plt.xlabel('Sentiment')\n",
    "plt.ylabel('Word Count')\n",
    "plt.tight_layout()\n",
    "plt.show()"
   ]
  },
  {
   "cell_type": "code",
   "execution_count": null,
   "metadata": {},
   "outputs": [],
   "source": [
    "# Simple text preprocessing\n",
    "def preprocess_text(text):\n",
    "    # Convert to lowercase\n",
    "    text = text.lower()\n",
    "    \n",
    "    # Remove special characters and digits\n",
    "    text = re.sub(r'[^\\w\\s]', '', text)\n",
    "    text = re.sub(r'\\d+', '', text)\n",
    "    \n",
    "    # Simple tokenization by splitting on whitespace\n",
    "    tokens = text.split()\n",
    "    \n",
    "    # Simple stopword removal (most common English stopwords)\n",
    "    stopwords = {'i', 'me', 'my', 'myself', 'we', 'our', 'ours', 'ourselves', 'you', 'your', 'yours', 'yourself', \n",
    "                 'yourselves', 'he', 'him', 'his', 'himself', 'she', 'her', 'hers', 'herself', 'it', 'its', 'itself', \n",
    "                 'they', 'them', 'their', 'theirs', 'themselves', 'what', 'which', 'who', 'whom', 'this', 'that', \n",
    "                 'these', 'those', 'am', 'is', 'are', 'was', 'were', 'be', 'been', 'being', 'have', 'has', 'had', \n",
    "                 'having', 'do', 'does', 'did', 'doing', 'a', 'an', 'the', 'and', 'but', 'if', 'or', 'because', \n",
    "                 'as', 'until', 'while', 'of', 'at', 'by', 'for', 'with', 'about', 'against', 'between', 'into', \n",
    "                 'through', 'during', 'before', 'after', 'above', 'below', 'to', 'from', 'up', 'down', 'in', 'out', \n",
    "                 'on', 'off', 'over', 'under', 'again', 'further', 'then', 'once', 'here', 'there', 'when', 'where', \n",
    "                 'why', 'how', 'all', 'any', 'both', 'each', 'few', 'more', 'most', 'other', 'some', 'such', 'no', \n",
    "                 'nor', 'not', 'only', 'own', 'same', 'so', 'than', 'too', 'very'}\n",
    "    tokens = [word for word in tokens if word not in stopwords]\n",
    "    \n",
    "    return tokens\n",
    "\n",
    "# Get all words from reviews (limited to a sample for performance)\n",
    "all_words = []\n",
    "sample_size = min(1000, len(df))\n",
    "for review in df['review_text'].sample(sample_size):\n",
    "    tokens = preprocess_text(str(review))\n",
    "    all_words.extend(tokens)\n",
    "\n",
    "# Count word frequency\n",
    "word_counts = Counter(all_words)\n",
    "most_common_words = word_counts.most_common(15)"
   ]
  },
  {
   "cell_type": "code",
   "execution_count": null,
   "metadata": {},
   "outputs": [],
   "source": [
    "# Plot most common words\n",
    "plt.figure()\n",
    "words, counts = zip(*most_common_words)\n",
    "plt.barh(range(len(words)), counts, color='purple', alpha=0.7)\n",
    "plt.yticks(range(len(words)), words)\n",
    "plt.title('Most Common Words in Reviews')\n",
    "plt.xlabel('Count')\n",
    "plt.ylabel('Word')\n",
    "plt.tight_layout()\n",
    "plt.show()"
   ]
  },
  {
   "cell_type": "code",
   "execution_count": null,
   "metadata": {},
   "outputs": [],
   "source": [
    "# Get common words by sentiment (with sampling for better performance)\n",
    "def get_sentiment_words(sentiment, sample_size=500):\n",
    "    words = []\n",
    "    subset = df[df['sentiment'] == sentiment]\n",
    "    # Take a sample if there are many reviews\n",
    "    if len(subset) > sample_size:\n",
    "        subset = subset.sample(sample_size)\n",
    "    \n",
    "    for review in subset['review_text']:\n",
    "        tokens = preprocess_text(str(review))\n",
    "        words.extend(tokens)\n",
    "    \n",
    "    return Counter(words).most_common(10)\n",
    "\n",
    "# Get the most common words for each sentiment\n",
    "positive_words = get_sentiment_words('Positive')\n",
    "neutral_words = get_sentiment_words('Neutral')\n",
    "negative_words = get_sentiment_words('Negative')"
   ]
  },
  {
   "cell_type": "code",
   "execution_count": null,
   "metadata": {},
   "outputs": [],
   "source": [
    "# Plot common words by sentiment (in separate plots for simplicity)\n",
    "plt.figure(figsize=(15, 5))\n",
    "\n",
    "# Positive words\n",
    "plt.subplot(1, 3, 1)\n",
    "pos_words, pos_counts = zip(*positive_words)\n",
    "plt.barh(range(len(pos_words)), pos_counts, color='green', alpha=0.7)\n",
    "plt.yticks(range(len(pos_words)), pos_words)\n",
    "plt.title('Positive Reviews')\n",
    "plt.xlabel('Count')\n",
    "\n",
    "# Neutral words\n",
    "plt.subplot(1, 3, 2)\n",
    "neu_words, neu_counts = zip(*neutral_words)\n",
    "plt.barh(range(len(neu_words)), neu_counts, color='gold', alpha=0.7)\n",
    "plt.yticks(range(len(neu_words)), neu_words)\n",
    "plt.title('Neutral Reviews')\n",
    "plt.xlabel('Count')\n",
    "\n",
    "# Negative words\n",
    "plt.subplot(1, 3, 3)\n",
    "neg_words, neg_counts = zip(*negative_words)\n",
    "plt.barh(range(len(neg_words)), neg_counts, color='red', alpha=0.7)\n",
    "plt.yticks(range(len(neg_words)), neg_words)\n",
    "plt.title('Negative Reviews')\n",
    "plt.xlabel('Count')\n",
    "\n",
    "plt.tight_layout()\n",
    "plt.show()"
   ]
  },
  {
   "cell_type": "markdown",
   "metadata": {},
   "source": [
    "## Example Reviews"
   ]
  },
  {
   "cell_type": "code",
   "execution_count": null,
   "metadata": {},
   "outputs": [],
   "source": [
    "# Display example reviews for each sentiment\n",
    "for sentiment in ['Positive', 'Neutral', 'Negative']:\n",
    "    print(f\"\\n{sentiment} Review Examples:\")\n",
    "    # Get up to 3 examples or all if less than 3\n",
    "    subset = df[df['sentiment'] == sentiment]\n",
    "    sample_size = min(3, len(subset))\n",
    "    examples = subset.sample(sample_size)['review_text'].values\n",
    "    \n",
    "    for i, example in enumerate(examples):\n",
    "        print(f\"{i+1}. {example}\")"
   ]
  },
  {
   "cell_type": "markdown",
   "metadata": {},
   "source": [
    "## Conclusions\n",
    "\n",
    "Based on this exploratory analysis, we can observe:\n",
    "\n",
    "1. **Class Imbalance**: There is a significant class imbalance with positive reviews dominating the dataset.\n",
    "\n",
    "2. **Review Length**: The average review length varies by sentiment, with negative reviews typically being longer than positive ones.\n",
    "\n",
    "3. **Common Words**: The vocabulary differs across sentiment categories, with positive reviews focusing on words like \"great\", \"love\", and \"helpful\", while negative reviews contain words like \"terrible\", \"waste\", and \"poor\".\n",
    "\n",
    "4. **App Differences**: Different apps have varying rating distributions and average ratings.\n",
    "\n",
    "These insights will inform our approach to implementing sentiment classification models."
   ]
  }
 ],
 "metadata": {
  "kernelspec": {
   "display_name": "Python 3",
   "language": "python",
   "name": "python3"
  },
  "language_info": {
   "codemirror_mode": {
    "name": "ipython",
    "version": 3
   },
   "file_extension": ".py",
   "mimetype": "text/x-python",
   "name": "python",
   "nbconvert_exporter": "python",
   "pygments_lexer": "ipython3",
   "version": "3.8.10"
  }
 },
 "nbformat": 4,
 "nbformat_minor": 4
}
