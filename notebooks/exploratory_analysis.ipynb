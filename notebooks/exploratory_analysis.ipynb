{
 "cells": [
  {
   "cell_type": "markdown",
   "metadata": {},
   "source": [
    "# Exploratory Data Analysis - Fitness App Reviews\n",
    "\n",
    "This notebook explores the fitness app reviews dataset to understand its characteristics and prepare it for sentiment analysis."
   ]
  },
  {
   "cell_type": "code",
   "execution_count": null,
   "metadata": {},
   "outputs": [],
   "source": [
    "# Import necessary libraries\n",
    "import pandas as pd\n",
    "import numpy as np\n",
    "import matplotlib.pyplot as plt\n",
    "import seaborn as sns\n",
    "from collections import Counter\n",
    "import re\n",
    "import nltk\n",
    "from nltk.corpus import stopwords\n",
    "from nltk.tokenize import word_tokenize\n",
    "\n",
    "# Set plot style\n",
    "plt.style.use('ggplot')\n",
    "sns.set(font_scale=1.2)\n",
    "\n",
    "# Download NLTK resources\n",
    "nltk.download('punkt')\n",
    "nltk.download('stopwords')"
   ]
  },
  {
   "cell_type": "code",
   "execution_count": null,
   "metadata": {},
   "outputs": [],
   "source": [
    "# Load the dataset\n",
    "# If using the generated dummy data\n",
    "df = pd.read_csv('../data/fitness_app_reviews.csv')\n",
    "\n",
    "# Display the first few rows\n",
    "df.head()"
   ]
  },
  {
   "cell_type": "code",
   "execution_count": null,
   "metadata": {},
   "outputs": [],
   "source": [
    "# Basic dataset information\n",
    "print(f\"Dataset shape: {df.shape}\")\n",
    "print(\"\\nDataset columns:\")\n",
    "for col in df.columns:\n",
    "    print(f\"- {col}\")\n",
    "\n",
    "# Check for missing values\n",
    "print(\"\\nMissing values:\")\n",
    "print(df.isnull().sum())"
   ]
  },
  {
   "cell_type": "markdown",
   "metadata": {},
   "source": [
    "## Rating Distribution"
   ]
  },
  {
   "cell_type": "code",
   "execution_count": null,
   "metadata": {},
   "outputs": [],
   "source": [
    "# Plot rating distribution\n",
    "plt.figure(figsize=(10, 6))\n",
    "sns.countplot(x='rating', data=df, palette='viridis')\n",
    "plt.title('Distribution of Ratings', fontsize=16)\n",
    "plt.xlabel('Rating', fontsize=14)\n",
    "plt.ylabel('Count', fontsize=14)\n",
    "plt.xticks(fontsize=12)\n",
    "plt.yticks(fontsize=12)\n",
    "\n",
    "# Add percentage labels\n",
    "total = len(df)\n",
    "for i, p in enumerate(plt.gca().patches):\n",
    "    percentage = f'{100 * p.get_height() / total:.1f}%'\n",
    "    plt.gca().annotate(percentage, (p.get_x() + p.get_width() / 2., p.get_height()),\n",
    "                       ha='center', va='bottom', fontsize=12)\n",
    "\n",
    "plt.tight_layout()\n",
    "plt.show()"
   ]
  },
  {
   "cell_type": "code",
   "execution_count": null,
   "metadata": {},
   "outputs": [],
   "source": [
    "# Map ratings to sentiment categories\n",
    "def get_sentiment(rating):\n",
    "    if rating >= 4:\n",
    "        return 'Positive'\n",
    "    elif rating >= 2:\n",
    "        return 'Neutral'\n",
    "    else:\n",
    "        return 'Negative'\n",
    "\n",
    "df['sentiment'] = df['rating'].apply(get_sentiment)\n",
    "\n",
    "# Plot sentiment distribution\n",
    "plt.figure(figsize=(10, 6))\n",
    "sns.countplot(x='sentiment', data=df, palette='RdYlGn')\n",
    "plt.title('Distribution of Sentiment Categories', fontsize=16)\n",
    "plt.xlabel('Sentiment', fontsize=14)\n",
    "plt.ylabel('Count', fontsize=14)\n",
    "plt.xticks(fontsize=12)\n",
    "plt.yticks(fontsize=12)\n",
    "\n",
    "# Add percentage labels\n",
    "total = len(df)\n",
    "for i, p in enumerate(plt.gca().patches):\n",
    "    percentage = f'{100 * p.get_height() / total:.1f}%'\n",
    "    plt.gca().annotate(percentage, (p.get_x() + p.get_width() / 2., p.get_height()),\n",
    "                       ha='center', va='bottom', fontsize=12)\n",
    "\n",
    "plt.tight_layout()\n",
    "plt.show()"
   ]
  },
  {
   "cell_type": "markdown",
   "metadata": {},
   "source": [
    "## App Distribution"
   ]
  },
  {
   "cell_type": "code",
   "execution_count": null,
   "metadata": {},
   "outputs": [],
   "source": [
    "# Plot distribution by app\n",
    "plt.figure(figsize=(12, 6))\n",
    "sns.countplot(y='app_name', data=df, palette='muted', order=df['app_name'].value_counts().index)\n",
    "plt.title('Number of Reviews by App', fontsize=16)\n",
    "plt.xlabel('Count', fontsize=14)\n",
    "plt.ylabel('App', fontsize=14)\n",
    "plt.xticks(fontsize=12)\n",
    "plt.yticks(fontsize=12)\n",
    "plt.tight_layout()\n",
    "plt.show()"
   ]
  },
  {
   "cell_type": "code",
   "execution_count": null,
   "metadata": {},
   "outputs": [],
   "source": [
    "# Plot ratings by app\n",
    "plt.figure(figsize=(12, 8))\n",
    "sns.countplot(x='rating', hue='app_name', data=df, palette='Set2')\n",
    "plt.title('Ratings Distribution by App', fontsize=16)\n",
    "plt.xlabel('Rating', fontsize=14)\n",
    "plt.ylabel('Count', fontsize=14)\n",
    "plt.xticks(fontsize=12)\n",
    "plt.yticks(fontsize=12)\n",
    "plt.legend(title='App Name', fontsize=12, title_fontsize=12)\n",
    "plt.tight_layout()\n",
    "plt.show()"
   ]
  },
  {
   "cell_type": "code",
   "execution_count": null,
   "metadata": {},
   "outputs": [],
   "source": [
    "# Average rating by app\n",
    "app_avg_rating = df.groupby('app_name')['rating'].mean().sort_values(ascending=False)\n",
    "\n",
    "plt.figure(figsize=(10, 6))\n",
    "app_avg_rating.plot(kind='bar', color='teal')\n",
    "plt.title('Average Rating by App', fontsize=16)\n",
    "plt.xlabel('App', fontsize=14)\n",
    "plt.ylabel('Average Rating', fontsize=14)\n",
    "plt.xticks(rotation=45, ha='right', fontsize=12)\n",
    "plt.yticks(fontsize=12)\n",
    "\n",
    "# Add value labels\n",
    "for i, v in enumerate(app_avg_rating):\n",
    "    plt.text(i, v + 0.05, f'{v:.2f}', ha='center', fontsize=12)\n",
    "\n",
    "plt.ylim(0, 5.5)\n",
    "plt.tight_layout()\n",
    "plt.show()"
   ]
  },
  {
   "cell_type": "markdown",
   "metadata": {},
   "source": [
    "## Text Analysis"
   ]
  },
  {
   "cell_type": "code",
   "execution_count": null,
   "metadata": {},
   "outputs": [],
   "source": [
    "# Review length distribution\n",
    "df['review_length'] = df['review_text'].apply(len)\n",
    "df['word_count'] = df['review_text'].apply(lambda x: len(str(x).split()))\n",
    "\n",
    "plt.figure(figsize=(12, 6))\n",
    "plt.subplot(1, 2, 1)\n",
    "sns.histplot(df['review_length'], bins=50, kde=True, color='skyblue')\n",
    "plt.title('Review Length Distribution', fontsize=14)\n",
    "plt.xlabel('Character Count', fontsize=12)\n",
    "plt.ylabel('Frequency', fontsize=12)\n",
    "\n",
    "plt.subplot(1, 2, 2)\n",
    "sns.histplot(df['word_count'], bins=30, kde=True, color='lightgreen')\n",
    "plt.title('Word Count Distribution', fontsize=14)\n",
    "plt.xlabel('Word Count', fontsize=12)\n",
    "plt.ylabel('Frequency', fontsize=12)\n",
    "\n",
    "plt.tight_layout()\n",
    "plt.show()"
   ]
  },
  {
   "cell_type": "code",
   "execution_count": null,
   "metadata": {},
   "outputs": [],
   "source": [
    "# Review length by sentiment\n",
    "plt.figure(figsize=(10, 6))\n",
    "sns.boxplot(x='sentiment', y='word_count', data=df, palette='RdYlGn')\n",
    "plt.title('Review Word Count by Sentiment', fontsize=16)\n",
    "plt.xlabel('Sentiment', fontsize=14)\n",
    "plt.ylabel('Word Count', fontsize=14)\n",
    "plt.xticks(fontsize=12)\n",
    "plt.yticks(fontsize=12)\n",
    "plt.tight_layout()\n",
    "plt.show()"
   ]
  },
  {
   "cell_type": "code",
   "execution_count": null,
   "metadata": {},
   "outputs": [],
   "source": [
    "# Function for text preprocessing\n",
    "def preprocess_text(text):\n",
    "    # Convert to lowercase\n",
    "    text = text.lower()\n",
    "    \n",
    "    # Remove HTML tags\n",
    "    text = re.sub(r'<.*?>', '', text)\n",
    "    \n",
    "    # Remove special characters and digits\n",
    "    text = re.sub(r'[^\\w\\s]', '', text)\n",
    "    text = re.sub(r'\\d+', '', text)\n",
    "    \n",
    "    # Tokenize\n",
    "    tokens = word_tokenize(text)\n",
    "    \n",
    "    # Remove stopwords\n",
    "    stop_words = set(stopwords.words('english'))\n",
    "    tokens = [word for word in tokens if word not in stop_words]\n",
    "    \n",
    "    return tokens\n",
    "\n",
    "# Get all words from reviews\n",
    "all_words = []\n",
    "for review in df['review_text']:\n",
    "    tokens = preprocess_text(str(review))\n",
    "    all_words.extend(tokens)\n",
    "\n",
    "# Count word frequency\n",
    "word_counts = Counter(all_words)\n",
    "most_common_words = word_counts.most_common(20)"
   ]
  },
  {
   "cell_type": "code",
   "execution_count": null,
   "metadata": {},
   "outputs": [],
   "source": [
    "# Plot most common words\n",
    "plt.figure(figsize=(12, 8))\n",
    "words, counts = zip(*most_common_words)\n",
    "sns.barplot(x=list(counts), y=list(words), palette='viridis')\n",
    "plt.title('Most Common Words in Reviews', fontsize=16)\n",
    "plt.xlabel('Count', fontsize=14)\n",
    "plt.ylabel('Word', fontsize=14)\n",
    "plt.tight_layout()\n",
    "plt.show()"
   ]
  },
  {
   "cell_type": "code",
   "execution_count": null,
   "metadata": {},
   "outputs": [],
   "source": [
    "# Get common words by sentiment\n",
    "def get_sentiment_words(sentiment):\n",
    "    words = []\n",
    "    subset = df[df['sentiment'] == sentiment]\n",
    "    \n",
    "    for review in subset['review_text']:\n",
    "        tokens = preprocess_text(str(review))\n",
    "        words.extend(tokens)\n",
    "    \n",
    "    return Counter(words).most_common(15)\n",
    "\n",
    "positive_words = get_sentiment_words('Positive')\n",
    "neutral_words = get_sentiment_words('Neutral')\n",
    "negative_words = get_sentiment_words('Negative')"
   ]
  },
  {
   "cell_type": "code",
   "execution_count": null,
   "metadata": {},
   "outputs": [],
   "source": [
    "# Plot common words by sentiment\n",
    "fig, axes = plt.subplots(1, 3, figsize=(20, 8))\n",
    "\n",
    "# Positive words\n",
    "words, counts = zip(*positive_words)\n",
    "sns.barplot(x=list(counts), y=list(words), ax=axes[0], color='green')\n",
    "axes[0].set_title('Positive Reviews', fontsize=14)\n",
    "axes[0].set_xlabel('Count', fontsize=12)\n",
    "axes[0].set_ylabel('Word', fontsize=12)\n",
    "\n",
    "# Neutral words\n",
    "words, counts = zip(*neutral_words)\n",
    "sns.barplot(x=list(counts), y=list(words), ax=axes[1], color='gold')\n",
    "axes[1].set_title('Neutral Reviews', fontsize=14)\n",
    "axes[1].set_xlabel('Count', fontsize=12)\n",
    "axes[1].set_ylabel('', fontsize=12)\n",
    "\n",
    "# Negative words\n",
    "words, counts = zip(*negative_words)\n",
    "sns.barplot(x=list(counts), y=list(words), ax=axes[2], color='red')\n",
    "axes[2].set_title('Negative Reviews', fontsize=14)\n",
    "axes[2].set_xlabel('Count', fontsize=12)\n",
    "axes[2].set_ylabel('', fontsize=12)\n",
    "\n",
    "plt.tight_layout()\n",
    "plt.show()"
   ]
  },
  {
   "cell_type": "markdown",
   "metadata": {},
   "source": [
    "## Example Reviews"
   ]
  },
  {
   "cell_type": "code",
   "execution_count": null,
   "metadata": {},
   "outputs": [],
   "source": [
    "# Display example reviews for each sentiment\n",
    "for sentiment in ['Positive', 'Neutral', 'Negative']:\n",
    "    print(f\"\\n{sentiment} Review Examples:\")\n",
    "    examples = df[df['sentiment'] == sentiment].sample(3)['review_text'].values\n",
    "    \n",
    "    for i, example in enumerate(examples):\n",
    "        print(f\"{i+1}. {example}\")"
   ]
  },
  {
   "cell_type": "markdown",
   "metadata": {},
   "source": [
    "## Conclusions\n",
    "\n",
    "Based on this exploratory analysis, we can observe:\n",
    "\n",
    "1. **Class Imbalance**: There is a significant class imbalance with positive reviews dominating the dataset.\n",
    "\n",
    "2. **Review Length**: The average review length varies by sentiment, with negative reviews typically being longer than positive ones.\n",
    "\n",
    "3. **Common Words**: The vocabulary differs across sentiment categories, with positive reviews focusing on words like \"great\", \"love\", and \"helpful\", while negative reviews contain words like \"terrible\", \"waste\", and \"poor\".\n",
    "\n",
    "4. **App Differences**: Different apps have varying rating distributions and average ratings.\n",
    "\n",
    "These insights will inform our approach to implementing sentiment classification models."
   ]
  }
 ],
 "metadata": {
  "kernelspec": {
   "display_name": "Python 3",
   "language": "python",
   "name": "python3"
  },
  "language_info": {
   "codemirror_mode": {
    "name": "ipython",
    "version": 3
   },
   "file_extension": ".py",
   "mimetype": "text/x-python",
   "name": "python",
   "nbconvert_exporter": "python",
   "pygments_lexer": "ipython3",
   "version": "3.8.10"
  }
 },
 "nbformat": 4,
 "nbformat_minor": 4
}
